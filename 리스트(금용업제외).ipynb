{
 "cells": [
  {
   "cell_type": "code",
   "execution_count": 1,
   "metadata": {},
   "outputs": [
    {
     "name": "stderr",
     "output_type": "stream",
     "text": [
      "/var/folders/lj/ms0l79910fz22cg2hchczhw40000gn/T/ipykernel_39134/4080736814.py:1: DeprecationWarning: \n",
      "Pyarrow will become a required dependency of pandas in the next major release of pandas (pandas 3.0),\n",
      "(to allow more performant data types, such as the Arrow string type, and better interoperability with other libraries)\n",
      "but was not found to be installed on your system.\n",
      "If this would cause problems for you,\n",
      "please provide us feedback at https://github.com/pandas-dev/pandas/issues/54466\n",
      "        \n",
      "  import pandas as pd\n"
     ]
    }
   ],
   "source": [
    "import pandas as pd"
   ]
  },
  {
   "cell_type": "code",
   "execution_count": 13,
   "metadata": {},
   "outputs": [],
   "source": [
    "list_1 = pd.read_csv('csv/최종_1기_리스트(545).csv', index_col=0)\n",
    "list_2 = pd.read_csv('csv/최종_2기_리스트.csv', index_col=0)\n"
   ]
  },
  {
   "cell_type": "code",
   "execution_count": 14,
   "metadata": {},
   "outputs": [
    {
     "data": {
      "text/plain": [
       "업종명\n",
       "화학             75\n",
       "전기전자           44\n",
       "기타금융           42\n",
       "유통업            42\n",
       "철강금속           40\n",
       "서비스업           38\n",
       "운수장비           37\n",
       "의약품            33\n",
       "기계             30\n",
       "음식료품           26\n",
       "섬유의복           21\n",
       "건설업            18\n",
       "운수창고업          17\n",
       "증권             17\n",
       "종이목재           16\n",
       "비금속광물          12\n",
       "기타제조업          10\n",
       "보험              8\n",
       "전기가스업           7\n",
       "통신업             4\n",
       "농업, 임업 및 어업     3\n",
       "의료정밀            3\n",
       "광업              1\n",
       "은행              1\n",
       "Name: count, dtype: int64"
      ]
     },
     "execution_count": 14,
     "metadata": {},
     "output_type": "execute_result"
    }
   ],
   "source": [
    "list_1['업종명'].value_counts()"
   ]
  },
  {
   "cell_type": "markdown",
   "metadata": {},
   "source": [
    "업종명\n",
    "- 보험\n",
    "- 증권\n",
    "- 은행\n",
    "- 'KB금융’, ’삼성카드’, '신한지주’, '하나금융지주’, '한국금융지주’"
   ]
  },
  {
   "cell_type": "code",
   "execution_count": 15,
   "metadata": {},
   "outputs": [],
   "source": [
    "a = list_1.loc[(list_1['업종명'] != '보험') & (list_1['업종명'] != '증권') & (list_1['업종명'] != '은행')]\n",
    "a.reset_index(drop=True, inplace=True)"
   ]
  },
  {
   "cell_type": "code",
   "execution_count": 30,
   "metadata": {},
   "outputs": [
    {
     "data": {
      "text/html": [
       "<div>\n",
       "<style scoped>\n",
       "    .dataframe tbody tr th:only-of-type {\n",
       "        vertical-align: middle;\n",
       "    }\n",
       "\n",
       "    .dataframe tbody tr th {\n",
       "        vertical-align: top;\n",
       "    }\n",
       "\n",
       "    .dataframe thead th {\n",
       "        text-align: right;\n",
       "    }\n",
       "</style>\n",
       "<table border=\"1\" class=\"dataframe\">\n",
       "  <thead>\n",
       "    <tr style=\"text-align: right;\">\n",
       "      <th></th>\n",
       "      <th>종목명</th>\n",
       "      <th>업종명</th>\n",
       "    </tr>\n",
       "  </thead>\n",
       "  <tbody>\n",
       "    <tr>\n",
       "      <th>0</th>\n",
       "      <td>AK홀딩스</td>\n",
       "      <td>기타금융</td>\n",
       "    </tr>\n",
       "    <tr>\n",
       "      <th>1</th>\n",
       "      <td>BYC</td>\n",
       "      <td>섬유의복</td>\n",
       "    </tr>\n",
       "    <tr>\n",
       "      <th>2</th>\n",
       "      <td>CJ</td>\n",
       "      <td>기타금융</td>\n",
       "    </tr>\n",
       "    <tr>\n",
       "      <th>3</th>\n",
       "      <td>CJCGV</td>\n",
       "      <td>서비스업</td>\n",
       "    </tr>\n",
       "    <tr>\n",
       "      <th>4</th>\n",
       "      <td>CJ대한통운</td>\n",
       "      <td>운수창고업</td>\n",
       "    </tr>\n",
       "    <tr>\n",
       "      <th>...</th>\n",
       "      <td>...</td>\n",
       "      <td>...</td>\n",
       "    </tr>\n",
       "    <tr>\n",
       "      <th>509</th>\n",
       "      <td>효성ITX</td>\n",
       "      <td>서비스업</td>\n",
       "    </tr>\n",
       "    <tr>\n",
       "      <th>510</th>\n",
       "      <td>후성</td>\n",
       "      <td>화학</td>\n",
       "    </tr>\n",
       "    <tr>\n",
       "      <th>511</th>\n",
       "      <td>휴니드</td>\n",
       "      <td>전기전자</td>\n",
       "    </tr>\n",
       "    <tr>\n",
       "      <th>512</th>\n",
       "      <td>휴스틸</td>\n",
       "      <td>철강금속</td>\n",
       "    </tr>\n",
       "    <tr>\n",
       "      <th>513</th>\n",
       "      <td>흥아해운</td>\n",
       "      <td>운수창고업</td>\n",
       "    </tr>\n",
       "  </tbody>\n",
       "</table>\n",
       "<p>514 rows × 2 columns</p>\n",
       "</div>"
      ],
      "text/plain": [
       "        종목명    업종명\n",
       "0     AK홀딩스   기타금융\n",
       "1       BYC   섬유의복\n",
       "2        CJ   기타금융\n",
       "3     CJCGV   서비스업\n",
       "4    CJ대한통운  운수창고업\n",
       "..      ...    ...\n",
       "509   효성ITX   서비스업\n",
       "510      후성     화학\n",
       "511     휴니드   전기전자\n",
       "512     휴스틸   철강금속\n",
       "513    흥아해운  운수창고업\n",
       "\n",
       "[514 rows x 2 columns]"
      ]
     },
     "execution_count": 30,
     "metadata": {},
     "output_type": "execute_result"
    }
   ],
   "source": [
    "list = ['KB금융', '삼성카드', '신한지주', '하나금융지주', '한국금융지주']\n",
    "a = a[~a['종목명'].isin(list)].reset_index(drop=True)\n",
    "a"
   ]
  },
  {
   "cell_type": "code",
   "execution_count": 33,
   "metadata": {},
   "outputs": [],
   "source": [
    "b = list_2.loc[(list_2['업종명'] != '보험') & (list_2['업종명'] != '증권') & (list_2['업종명'] != '은행')]\n",
    "list = ['동원금속',\n",
    "'대동전자',\n",
    "'KB금융',\n",
    "'JB금융지주',\n",
    "'하나금융지주',\n",
    "'오리엔트바이오',\n",
    " 'DGB금융지주',\n",
    " 'BNK금융지주',\n",
    " '한국토지신탁',\n",
    " '한국자산신탁',\n",
    " '한국금융지주',\n",
    " '우리금융지주',\n",
    " '신한지주',\n",
    " '삼성카드',\n",
    " '비케이탑스',\n",
    " '메리츠금융지주',\n",
    " '기신정기']\n",
    "\n",
    "b = b[~b['종목명'].isin(list)].reset_index(drop=True)\n"
   ]
  },
  {
   "cell_type": "code",
   "execution_count": 35,
   "metadata": {},
   "outputs": [
    {
     "data": {
      "text/html": [
       "<div>\n",
       "<style scoped>\n",
       "    .dataframe tbody tr th:only-of-type {\n",
       "        vertical-align: middle;\n",
       "    }\n",
       "\n",
       "    .dataframe tbody tr th {\n",
       "        vertical-align: top;\n",
       "    }\n",
       "\n",
       "    .dataframe thead th {\n",
       "        text-align: right;\n",
       "    }\n",
       "</style>\n",
       "<table border=\"1\" class=\"dataframe\">\n",
       "  <thead>\n",
       "    <tr style=\"text-align: right;\">\n",
       "      <th></th>\n",
       "      <th>종목명</th>\n",
       "      <th>업종명</th>\n",
       "    </tr>\n",
       "  </thead>\n",
       "  <tbody>\n",
       "    <tr>\n",
       "      <th>0</th>\n",
       "      <td>AK홀딩스</td>\n",
       "      <td>기타금융</td>\n",
       "    </tr>\n",
       "    <tr>\n",
       "      <th>1</th>\n",
       "      <td>BYC</td>\n",
       "      <td>섬유의복</td>\n",
       "    </tr>\n",
       "    <tr>\n",
       "      <th>2</th>\n",
       "      <td>CJ</td>\n",
       "      <td>기타금융</td>\n",
       "    </tr>\n",
       "    <tr>\n",
       "      <th>3</th>\n",
       "      <td>CJCGV</td>\n",
       "      <td>서비스업</td>\n",
       "    </tr>\n",
       "    <tr>\n",
       "      <th>4</th>\n",
       "      <td>CJ대한통운</td>\n",
       "      <td>운수창고업</td>\n",
       "    </tr>\n",
       "    <tr>\n",
       "      <th>...</th>\n",
       "      <td>...</td>\n",
       "      <td>...</td>\n",
       "    </tr>\n",
       "    <tr>\n",
       "      <th>687</th>\n",
       "      <td>화승코퍼레이션</td>\n",
       "      <td>운수장비</td>\n",
       "    </tr>\n",
       "    <tr>\n",
       "      <th>688</th>\n",
       "      <td>효성중공업</td>\n",
       "      <td>전기전자</td>\n",
       "    </tr>\n",
       "    <tr>\n",
       "      <th>689</th>\n",
       "      <td>효성첨단소재</td>\n",
       "      <td>화학</td>\n",
       "    </tr>\n",
       "    <tr>\n",
       "      <th>690</th>\n",
       "      <td>효성티앤씨</td>\n",
       "      <td>화학</td>\n",
       "    </tr>\n",
       "    <tr>\n",
       "      <th>691</th>\n",
       "      <td>효성화학</td>\n",
       "      <td>화학</td>\n",
       "    </tr>\n",
       "  </tbody>\n",
       "</table>\n",
       "<p>692 rows × 2 columns</p>\n",
       "</div>"
      ],
      "text/plain": [
       "         종목명    업종명\n",
       "0      AK홀딩스   기타금융\n",
       "1        BYC   섬유의복\n",
       "2         CJ   기타금융\n",
       "3      CJCGV   서비스업\n",
       "4     CJ대한통운  운수창고업\n",
       "..       ...    ...\n",
       "687  화승코퍼레이션   운수장비\n",
       "688    효성중공업   전기전자\n",
       "689   효성첨단소재     화학\n",
       "690    효성티앤씨     화학\n",
       "691     효성화학     화학\n",
       "\n",
       "[692 rows x 2 columns]"
      ]
     },
     "execution_count": 35,
     "metadata": {},
     "output_type": "execute_result"
    }
   ],
   "source": [
    "b"
   ]
  },
  {
   "cell_type": "code",
   "execution_count": 36,
   "metadata": {},
   "outputs": [],
   "source": [
    "a.to_csv('최종_1기_리스트_금융업제외.csv')\n",
    "b.to_csv('최종_2기_리스트_금융업제외.csv')\n"
   ]
  },
  {
   "cell_type": "code",
   "execution_count": null,
   "metadata": {},
   "outputs": [],
   "source": []
  }
 ],
 "metadata": {
  "kernelspec": {
   "display_name": "Python 3",
   "language": "python",
   "name": "python3"
  },
  "language_info": {
   "codemirror_mode": {
    "name": "ipython",
    "version": 3
   },
   "file_extension": ".py",
   "mimetype": "text/x-python",
   "name": "python",
   "nbconvert_exporter": "python",
   "pygments_lexer": "ipython3",
   "version": "3.11.7"
  }
 },
 "nbformat": 4,
 "nbformat_minor": 2
}
