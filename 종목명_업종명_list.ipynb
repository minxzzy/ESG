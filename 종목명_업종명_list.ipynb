{
 "cells": [
  {
   "cell_type": "code",
   "execution_count": 21,
   "metadata": {},
   "outputs": [],
   "source": [
    "import pandas as pd\n",
    "\n",
    "df = pd.read_csv('csv/종목명_수정.csv', index_col=0)\n",
    "df2 = pd.read_csv('2기_통합등급.csv')"
   ]
  },
  {
   "cell_type": "code",
   "execution_count": 22,
   "metadata": {},
   "outputs": [
    {
     "data": {
      "text/plain": [
       "Index(['종목명', '2020통합등급', '2021통합등급', '2022통합등급', '2023통합등급', '2024통합등급',\n",
       "       '종목코드', '시장구분', '업종명', '시가총액', '2021-2020통합등급차이', '2022-2021통합등급차이',\n",
       "       '2023-2022통합등급차이', '2024-2023통합등급차이'],\n",
       "      dtype='object')"
      ]
     },
     "execution_count": 22,
     "metadata": {},
     "output_type": "execute_result"
    }
   ],
   "source": [
    "df2.columns"
   ]
  },
  {
   "cell_type": "code",
   "execution_count": 23,
   "metadata": {},
   "outputs": [
    {
     "data": {
      "text/html": [
       "<div>\n",
       "<style scoped>\n",
       "    .dataframe tbody tr th:only-of-type {\n",
       "        vertical-align: middle;\n",
       "    }\n",
       "\n",
       "    .dataframe tbody tr th {\n",
       "        vertical-align: top;\n",
       "    }\n",
       "\n",
       "    .dataframe thead th {\n",
       "        text-align: right;\n",
       "    }\n",
       "</style>\n",
       "<table border=\"1\" class=\"dataframe\">\n",
       "  <thead>\n",
       "    <tr style=\"text-align: right;\">\n",
       "      <th></th>\n",
       "      <th>종목명</th>\n",
       "      <th>업종명</th>\n",
       "    </tr>\n",
       "  </thead>\n",
       "  <tbody>\n",
       "    <tr>\n",
       "      <th>0</th>\n",
       "      <td>AK홀딩스</td>\n",
       "      <td>기타금융</td>\n",
       "    </tr>\n",
       "    <tr>\n",
       "      <th>1</th>\n",
       "      <td>BYC</td>\n",
       "      <td>섬유의복</td>\n",
       "    </tr>\n",
       "    <tr>\n",
       "      <th>2</th>\n",
       "      <td>CJ</td>\n",
       "      <td>기타금융</td>\n",
       "    </tr>\n",
       "    <tr>\n",
       "      <th>3</th>\n",
       "      <td>CJCGV</td>\n",
       "      <td>서비스업</td>\n",
       "    </tr>\n",
       "    <tr>\n",
       "      <th>4</th>\n",
       "      <td>CJ대한통운</td>\n",
       "      <td>운수창고업</td>\n",
       "    </tr>\n",
       "    <tr>\n",
       "      <th>...</th>\n",
       "      <td>...</td>\n",
       "      <td>...</td>\n",
       "    </tr>\n",
       "    <tr>\n",
       "      <th>736</th>\n",
       "      <td>화승코퍼레이션</td>\n",
       "      <td>운수장비</td>\n",
       "    </tr>\n",
       "    <tr>\n",
       "      <th>737</th>\n",
       "      <td>효성중공업</td>\n",
       "      <td>전기전자</td>\n",
       "    </tr>\n",
       "    <tr>\n",
       "      <th>738</th>\n",
       "      <td>효성첨단소재</td>\n",
       "      <td>화학</td>\n",
       "    </tr>\n",
       "    <tr>\n",
       "      <th>739</th>\n",
       "      <td>효성티앤씨</td>\n",
       "      <td>화학</td>\n",
       "    </tr>\n",
       "    <tr>\n",
       "      <th>740</th>\n",
       "      <td>효성화학</td>\n",
       "      <td>화학</td>\n",
       "    </tr>\n",
       "  </tbody>\n",
       "</table>\n",
       "<p>741 rows × 2 columns</p>\n",
       "</div>"
      ],
      "text/plain": [
       "         종목명    업종명\n",
       "0      AK홀딩스   기타금융\n",
       "1        BYC   섬유의복\n",
       "2         CJ   기타금융\n",
       "3      CJCGV   서비스업\n",
       "4     CJ대한통운  운수창고업\n",
       "..       ...    ...\n",
       "736  화승코퍼레이션   운수장비\n",
       "737    효성중공업   전기전자\n",
       "738   효성첨단소재     화학\n",
       "739    효성티앤씨     화학\n",
       "740     효성화학     화학\n",
       "\n",
       "[741 rows x 2 columns]"
      ]
     },
     "execution_count": 23,
     "metadata": {},
     "output_type": "execute_result"
    }
   ],
   "source": [
    "최종_2기_목록 = df2.drop(columns=['2020통합등급', '2021통합등급', '2022통합등급', '2023통합등급', '2024통합등급',\n",
    "       '종목코드','시장구분', '시가총액', '2021-2020통합등급차이', '2022-2021통합등급차이',\n",
    "       '2023-2022통합등급차이', '2024-2023통합등급차이'])\n",
    "최종_2기_목록"
   ]
  },
  {
   "cell_type": "code",
   "execution_count": 24,
   "metadata": {},
   "outputs": [],
   "source": [
    "최종_2기_목록.to_csv('최종_2기_리스트.csv')"
   ]
  },
  {
   "cell_type": "code",
   "execution_count": 25,
   "metadata": {},
   "outputs": [
    {
     "data": {
      "text/html": [
       "<div>\n",
       "<style scoped>\n",
       "    .dataframe tbody tr th:only-of-type {\n",
       "        vertical-align: middle;\n",
       "    }\n",
       "\n",
       "    .dataframe tbody tr th {\n",
       "        vertical-align: top;\n",
       "    }\n",
       "\n",
       "    .dataframe thead th {\n",
       "        text-align: right;\n",
       "    }\n",
       "</style>\n",
       "<table border=\"1\" class=\"dataframe\">\n",
       "  <thead>\n",
       "    <tr style=\"text-align: right;\">\n",
       "      <th></th>\n",
       "      <th>종목명</th>\n",
       "    </tr>\n",
       "  </thead>\n",
       "  <tbody>\n",
       "    <tr>\n",
       "      <th>0</th>\n",
       "      <td>AK홀딩스</td>\n",
       "    </tr>\n",
       "    <tr>\n",
       "      <th>1</th>\n",
       "      <td>BYC</td>\n",
       "    </tr>\n",
       "    <tr>\n",
       "      <th>2</th>\n",
       "      <td>CJ</td>\n",
       "    </tr>\n",
       "    <tr>\n",
       "      <th>3</th>\n",
       "      <td>CJCGV</td>\n",
       "    </tr>\n",
       "    <tr>\n",
       "      <th>4</th>\n",
       "      <td>CJ대한통운</td>\n",
       "    </tr>\n",
       "    <tr>\n",
       "      <th>...</th>\n",
       "      <td>...</td>\n",
       "    </tr>\n",
       "    <tr>\n",
       "      <th>553</th>\n",
       "      <td>텔코웨어</td>\n",
       "    </tr>\n",
       "    <tr>\n",
       "      <th>554</th>\n",
       "      <td>파미셀</td>\n",
       "    </tr>\n",
       "    <tr>\n",
       "      <th>555</th>\n",
       "      <td>평화홀딩스</td>\n",
       "    </tr>\n",
       "    <tr>\n",
       "      <th>556</th>\n",
       "      <td>진흥기업</td>\n",
       "    </tr>\n",
       "    <tr>\n",
       "      <th>557</th>\n",
       "      <td>인스코비</td>\n",
       "    </tr>\n",
       "  </tbody>\n",
       "</table>\n",
       "<p>558 rows × 1 columns</p>\n",
       "</div>"
      ],
      "text/plain": [
       "        종목명\n",
       "0     AK홀딩스\n",
       "1       BYC\n",
       "2        CJ\n",
       "3     CJCGV\n",
       "4    CJ대한통운\n",
       "..      ...\n",
       "553    텔코웨어\n",
       "554     파미셀\n",
       "555   평화홀딩스\n",
       "556    진흥기업\n",
       "557    인스코비\n",
       "\n",
       "[558 rows x 1 columns]"
      ]
     },
     "execution_count": 25,
     "metadata": {},
     "output_type": "execute_result"
    }
   ],
   "source": [
    "df"
   ]
  },
  {
   "cell_type": "code",
   "execution_count": 26,
   "metadata": {},
   "outputs": [
    {
     "data": {
      "text/html": [
       "<div>\n",
       "<style scoped>\n",
       "    .dataframe tbody tr th:only-of-type {\n",
       "        vertical-align: middle;\n",
       "    }\n",
       "\n",
       "    .dataframe tbody tr th {\n",
       "        vertical-align: top;\n",
       "    }\n",
       "\n",
       "    .dataframe thead th {\n",
       "        text-align: right;\n",
       "    }\n",
       "</style>\n",
       "<table border=\"1\" class=\"dataframe\">\n",
       "  <thead>\n",
       "    <tr style=\"text-align: right;\">\n",
       "      <th></th>\n",
       "      <th>종목명</th>\n",
       "      <th>업종명</th>\n",
       "    </tr>\n",
       "  </thead>\n",
       "  <tbody>\n",
       "    <tr>\n",
       "      <th>0</th>\n",
       "      <td>AK홀딩스</td>\n",
       "      <td>기타금융</td>\n",
       "    </tr>\n",
       "    <tr>\n",
       "      <th>1</th>\n",
       "      <td>BYC</td>\n",
       "      <td>섬유의복</td>\n",
       "    </tr>\n",
       "    <tr>\n",
       "      <th>2</th>\n",
       "      <td>CJ</td>\n",
       "      <td>기타금융</td>\n",
       "    </tr>\n",
       "    <tr>\n",
       "      <th>3</th>\n",
       "      <td>CJCGV</td>\n",
       "      <td>서비스업</td>\n",
       "    </tr>\n",
       "    <tr>\n",
       "      <th>4</th>\n",
       "      <td>CJ대한통운</td>\n",
       "      <td>운수창고업</td>\n",
       "    </tr>\n",
       "    <tr>\n",
       "      <th>...</th>\n",
       "      <td>...</td>\n",
       "      <td>...</td>\n",
       "    </tr>\n",
       "    <tr>\n",
       "      <th>553</th>\n",
       "      <td>텔코웨어</td>\n",
       "      <td>서비스업</td>\n",
       "    </tr>\n",
       "    <tr>\n",
       "      <th>554</th>\n",
       "      <td>파미셀</td>\n",
       "      <td>의약품</td>\n",
       "    </tr>\n",
       "    <tr>\n",
       "      <th>555</th>\n",
       "      <td>평화홀딩스</td>\n",
       "      <td>운수장비</td>\n",
       "    </tr>\n",
       "    <tr>\n",
       "      <th>556</th>\n",
       "      <td>진흥기업</td>\n",
       "      <td>건설업</td>\n",
       "    </tr>\n",
       "    <tr>\n",
       "      <th>557</th>\n",
       "      <td>인스코비</td>\n",
       "      <td>통신업</td>\n",
       "    </tr>\n",
       "  </tbody>\n",
       "</table>\n",
       "<p>558 rows × 2 columns</p>\n",
       "</div>"
      ],
      "text/plain": [
       "        종목명    업종명\n",
       "0     AK홀딩스   기타금융\n",
       "1       BYC   섬유의복\n",
       "2        CJ   기타금융\n",
       "3     CJCGV   서비스업\n",
       "4    CJ대한통운  운수창고업\n",
       "..      ...    ...\n",
       "553    텔코웨어   서비스업\n",
       "554     파미셀    의약품\n",
       "555   평화홀딩스   운수장비\n",
       "556    진흥기업    건설업\n",
       "557    인스코비    통신업\n",
       "\n",
       "[558 rows x 2 columns]"
      ]
     },
     "execution_count": 26,
     "metadata": {},
     "output_type": "execute_result"
    }
   ],
   "source": [
    "_1기_목록 = pd.merge(df, 최종_2기_목록, on='종목명', how='left')\n",
    "_1기_목록"
   ]
  },
  {
   "cell_type": "code",
   "execution_count": 27,
   "metadata": {},
   "outputs": [
    {
     "data": {
      "text/plain": [
       "종목명     0\n",
       "업종명    12\n",
       "dtype: int64"
      ]
     },
     "execution_count": 27,
     "metadata": {},
     "output_type": "execute_result"
    }
   ],
   "source": [
    "_1기_목록.isna().sum()"
   ]
  },
  {
   "cell_type": "code",
   "execution_count": 28,
   "metadata": {},
   "outputs": [],
   "source": [
    "t = pd.read_csv('csv/esg/esg최종/통합1기_최종수정.csv', index_col=0)\n",
    "e = pd.read_csv('csv/esg/esg최종/환경1기_최종수정.csv', index_col=0)\n",
    "s = pd.read_csv('csv/esg/esg최종/사회1기_최종수정.csv', index_col=0)\n",
    "g = pd.read_csv('csv/esg/esg최종/지배1기_최종수정.csv', index_col=0)"
   ]
  },
  {
   "cell_type": "code",
   "execution_count": 29,
   "metadata": {},
   "outputs": [],
   "source": [
    "t = t[['종목명','업종명']]\n",
    "e = e[['종목명','업종명']]\n",
    "s = s[['종목명','업종명']]\n",
    "g = g[['종목명','업종명']]"
   ]
  },
  {
   "cell_type": "code",
   "execution_count": 30,
   "metadata": {},
   "outputs": [
    {
     "data": {
      "text/plain": [
       "0       AK홀딩스\n",
       "1         BYC\n",
       "2          CJ\n",
       "3       CJCGV\n",
       "4      CJ대한통운\n",
       "        ...  \n",
       "555       풀무원\n",
       "556        풍산\n",
       "557     풍산홀딩스\n",
       "558     KH필룩스\n",
       "559    하나금융지주\n",
       "Name: 종목명, Length: 559, dtype: object"
      ]
     },
     "execution_count": 30,
     "metadata": {},
     "output_type": "execute_result"
    }
   ],
   "source": [
    "e['종목명']"
   ]
  },
  {
   "cell_type": "code",
   "execution_count": 31,
   "metadata": {},
   "outputs": [
    {
     "data": {
      "text/plain": [
       "0       AK홀딩스\n",
       "1         BYC\n",
       "2          CJ\n",
       "3       CJCGV\n",
       "4      CJ대한통운\n",
       "        ...  \n",
       "430       풀무원\n",
       "431        풍산\n",
       "432     풍산홀딩스\n",
       "433     KH필룩스\n",
       "434    하나금융지주\n",
       "Name: 종목명, Length: 434, dtype: object"
      ]
     },
     "execution_count": 31,
     "metadata": {},
     "output_type": "execute_result"
    }
   ],
   "source": [
    "s['종목명']"
   ]
  },
  {
   "cell_type": "code",
   "execution_count": 32,
   "metadata": {},
   "outputs": [
    {
     "data": {
      "text/plain": [
       "0         AK홀딩스\n",
       "1           BYC\n",
       "2        CJ대한통운\n",
       "3        CJ제일제당\n",
       "4        DB손해보험\n",
       "         ...   \n",
       "301    포스코인터내셔널\n",
       "302         풀무원\n",
       "303          풍산\n",
       "304       KH필룩스\n",
       "305      하나금융지주\n",
       "Name: 종목명, Length: 305, dtype: object"
      ]
     },
     "execution_count": 32,
     "metadata": {},
     "output_type": "execute_result"
    }
   ],
   "source": [
    "g['종목명']"
   ]
  },
  {
   "cell_type": "code",
   "execution_count": 33,
   "metadata": {},
   "outputs": [],
   "source": [
    "a = pd.merge(e, t, how='outer')\n",
    "b = pd.merge(a, s, how='outer')\n",
    "c = pd.merge(b, g, how='outer')"
   ]
  },
  {
   "cell_type": "code",
   "execution_count": 34,
   "metadata": {},
   "outputs": [],
   "source": [
    "c.to_csv('최종_1기_리스트.csv')"
   ]
  },
  {
   "cell_type": "code",
   "execution_count": 35,
   "metadata": {},
   "outputs": [],
   "source": [
    "z = pd.read_csv('최종1기_545_종목명.csv')\n",
    "z = pd.merge(c,z,on='종목명')"
   ]
  },
  {
   "cell_type": "code",
   "execution_count": 36,
   "metadata": {},
   "outputs": [],
   "source": [
    "z.to_csv('최종_1기_리스트(545).csv')"
   ]
  },
  {
   "cell_type": "code",
   "execution_count": 39,
   "metadata": {},
   "outputs": [
    {
     "data": {
      "text/html": [
       "<div>\n",
       "<style scoped>\n",
       "    .dataframe tbody tr th:only-of-type {\n",
       "        vertical-align: middle;\n",
       "    }\n",
       "\n",
       "    .dataframe tbody tr th {\n",
       "        vertical-align: top;\n",
       "    }\n",
       "\n",
       "    .dataframe thead th {\n",
       "        text-align: right;\n",
       "    }\n",
       "</style>\n",
       "<table border=\"1\" class=\"dataframe\">\n",
       "  <thead>\n",
       "    <tr style=\"text-align: right;\">\n",
       "      <th></th>\n",
       "      <th>Symbol</th>\n",
       "      <th>Name</th>\n",
       "      <th>결산월</th>\n",
       "      <th>회계년</th>\n",
       "      <th>주기</th>\n",
       "      <th>ROE(영업이익)(%)</th>\n",
       "    </tr>\n",
       "  </thead>\n",
       "  <tbody>\n",
       "    <tr>\n",
       "      <th>0</th>\n",
       "      <td>A005930</td>\n",
       "      <td>삼성전자</td>\n",
       "      <td>12</td>\n",
       "      <td>2011</td>\n",
       "      <td>Annual</td>\n",
       "      <td>16.41</td>\n",
       "    </tr>\n",
       "    <tr>\n",
       "      <th>1</th>\n",
       "      <td>A005930</td>\n",
       "      <td>삼성전자</td>\n",
       "      <td>12</td>\n",
       "      <td>2012</td>\n",
       "      <td>Annual</td>\n",
       "      <td>26.08</td>\n",
       "    </tr>\n",
       "    <tr>\n",
       "      <th>2</th>\n",
       "      <td>A005930</td>\n",
       "      <td>삼성전자</td>\n",
       "      <td>12</td>\n",
       "      <td>2013</td>\n",
       "      <td>Annual</td>\n",
       "      <td>27.10</td>\n",
       "    </tr>\n",
       "    <tr>\n",
       "      <th>3</th>\n",
       "      <td>A005930</td>\n",
       "      <td>삼성전자</td>\n",
       "      <td>12</td>\n",
       "      <td>2014</td>\n",
       "      <td>Annual</td>\n",
       "      <td>15.73</td>\n",
       "    </tr>\n",
       "    <tr>\n",
       "      <th>4</th>\n",
       "      <td>A005930</td>\n",
       "      <td>삼성전자</td>\n",
       "      <td>12</td>\n",
       "      <td>2015</td>\n",
       "      <td>Annual</td>\n",
       "      <td>15.22</td>\n",
       "    </tr>\n",
       "    <tr>\n",
       "      <th>...</th>\n",
       "      <td>...</td>\n",
       "      <td>...</td>\n",
       "      <td>...</td>\n",
       "      <td>...</td>\n",
       "      <td>...</td>\n",
       "      <td>...</td>\n",
       "    </tr>\n",
       "    <tr>\n",
       "      <th>11377</th>\n",
       "      <td>A071950</td>\n",
       "      <td>코아스</td>\n",
       "      <td>12</td>\n",
       "      <td>2020</td>\n",
       "      <td>Annual</td>\n",
       "      <td>-8.52</td>\n",
       "    </tr>\n",
       "    <tr>\n",
       "      <th>11378</th>\n",
       "      <td>A071950</td>\n",
       "      <td>코아스</td>\n",
       "      <td>12</td>\n",
       "      <td>2021</td>\n",
       "      <td>Annual</td>\n",
       "      <td>-21.69</td>\n",
       "    </tr>\n",
       "    <tr>\n",
       "      <th>11379</th>\n",
       "      <td>A071950</td>\n",
       "      <td>코아스</td>\n",
       "      <td>12</td>\n",
       "      <td>2022</td>\n",
       "      <td>Annual</td>\n",
       "      <td>-3.82</td>\n",
       "    </tr>\n",
       "    <tr>\n",
       "      <th>11380</th>\n",
       "      <td>A071950</td>\n",
       "      <td>코아스</td>\n",
       "      <td>12</td>\n",
       "      <td>2023</td>\n",
       "      <td>Annual</td>\n",
       "      <td>-21.13</td>\n",
       "    </tr>\n",
       "    <tr>\n",
       "      <th>11381</th>\n",
       "      <td>A071950</td>\n",
       "      <td>코아스</td>\n",
       "      <td>12</td>\n",
       "      <td>2024</td>\n",
       "      <td>Annual</td>\n",
       "      <td>NaN</td>\n",
       "    </tr>\n",
       "  </tbody>\n",
       "</table>\n",
       "<p>11382 rows × 6 columns</p>\n",
       "</div>"
      ],
      "text/plain": [
       "        Symbol  Name  결산월   회계년      주기 ROE(영업이익)(%)\n",
       "0      A005930  삼성전자   12  2011  Annual        16.41\n",
       "1      A005930  삼성전자   12  2012  Annual        26.08\n",
       "2      A005930  삼성전자   12  2013  Annual        27.10\n",
       "3      A005930  삼성전자   12  2014  Annual        15.73\n",
       "4      A005930  삼성전자   12  2015  Annual        15.22\n",
       "...        ...   ...  ...   ...     ...          ...\n",
       "11377  A071950   코아스   12  2020  Annual        -8.52\n",
       "11378  A071950   코아스   12  2021  Annual       -21.69\n",
       "11379  A071950   코아스   12  2022  Annual        -3.82\n",
       "11380  A071950   코아스   12  2023  Annual       -21.13\n",
       "11381  A071950   코아스   12  2024  Annual          NaN\n",
       "\n",
       "[11382 rows x 6 columns]"
      ]
     },
     "execution_count": 39,
     "metadata": {},
     "output_type": "execute_result"
    }
   ],
   "source": [
    "roe = pd.read_csv('csv/roe.csv')\n",
    "roe"
   ]
  },
  {
   "cell_type": "code",
   "execution_count": 43,
   "metadata": {},
   "outputs": [],
   "source": [
    "roe_1기 = roe.loc[(roe['회계년'] >= 2011) & (roe['회계년'] <= 2018)]\n",
    "roe_2기 = roe.loc[(roe['회계년'] >= 2020) & (roe['회계년'] <= 2024)]\n",
    "\n",
    "roe_1기.reset_index(drop=True, inplace=True)\n",
    "roe_2기.reset_index(drop=True, inplace=True)\n"
   ]
  },
  {
   "cell_type": "code",
   "execution_count": null,
   "metadata": {},
   "outputs": [],
   "source": [
    "roe"
   ]
  }
 ],
 "metadata": {
  "kernelspec": {
   "display_name": "Python 3",
   "language": "python",
   "name": "python3"
  },
  "language_info": {
   "codemirror_mode": {
    "name": "ipython",
    "version": 3
   },
   "file_extension": ".py",
   "mimetype": "text/x-python",
   "name": "python",
   "nbconvert_exporter": "python",
   "pygments_lexer": "ipython3",
   "version": "3.11.7"
  }
 },
 "nbformat": 4,
 "nbformat_minor": 2
}
